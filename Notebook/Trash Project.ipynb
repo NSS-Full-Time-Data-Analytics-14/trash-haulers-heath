{
 "cells": [
  {
   "cell_type": "code",
   "execution_count": null,
   "id": "921401fa-9fbf-427a-9061-9730ced69e39",
   "metadata": {},
   "outputs": [],
   "source": [
    "import pandas as pd\n",
    "import matplotlib.pyplot as plt\n",
    "import seaborn as sns"
   ]
  },
  {
   "cell_type": "code",
   "execution_count": null,
   "id": "c96c8af2-0c4e-4ff6-af07-ea29cf94e4f3",
   "metadata": {
    "scrolled": true
   },
   "outputs": [],
   "source": [
    "trash_report = pd.read_csv('../data/trash_hauler_report.csv')\n",
    "trash_report.head()"
   ]
  },
  {
   "cell_type": "code",
   "execution_count": null,
   "id": "bee23512-cf24-40b1-bae6-c3405258e626",
   "metadata": {},
   "outputs": [],
   "source": [
    "trash_report.info()"
   ]
  },
  {
   "cell_type": "code",
   "execution_count": null,
   "id": "5e584715-d930-427b-a8df-518896151f89",
   "metadata": {},
   "outputs": [],
   "source": [
    "trash_report.shape"
   ]
  },
  {
   "cell_type": "code",
   "execution_count": null,
   "id": "6623280f-1f22-427a-96d1-5158fc358e7e",
   "metadata": {},
   "outputs": [],
   "source": [
    "trash_report.columns"
   ]
  },
  {
   "cell_type": "code",
   "execution_count": null,
   "id": "de80b6a4-4613-4684-8401-585e11797c76",
   "metadata": {},
   "outputs": [],
   "source": [
    "trash_report = trash_report.rename(columns = {\n",
    "    'Request ':'Request'})\n",
    "trash_report.head()"
   ]
  },
  {
   "cell_type": "code",
   "execution_count": null,
   "id": "d025006e-fd0c-4930-b8a4-e485a805ae25",
   "metadata": {},
   "outputs": [],
   "source": [
    "trash_report['Incident Address'] = trash_report['Incident Address'].str.title()\n",
    "trash_report.head()"
   ]
  },
  {
   "cell_type": "code",
   "execution_count": null,
   "id": "e500d49b-8799-44df-818d-5e92d872c066",
   "metadata": {},
   "outputs": [],
   "source": [
    "trash_report['Request'].value_counts()"
   ]
  },
  {
   "cell_type": "code",
   "execution_count": null,
   "id": "fcd1be1b-b2d7-4caa-aa44-0f51d3c13d58",
   "metadata": {},
   "outputs": [],
   "source": [
    "trash_report.isna().sum()"
   ]
  },
  {
   "cell_type": "code",
   "execution_count": null,
   "id": "31a6000c-fadb-4a01-9bc4-bc8a97345e36",
   "metadata": {},
   "outputs": [],
   "source": [
    "trash_report['Trash Hauler'] = trash_report['Trash Hauler'].str.title()\n",
    "trash_report.head(10)"
   ]
  },
  {
   "cell_type": "code",
   "execution_count": null,
   "id": "7291d1f4-eb1e-4d43-a497-b692a448fcd6",
   "metadata": {},
   "outputs": [],
   "source": [
    "trash_report.groupby('Trash Route')['Trash Hauler'].describe()"
   ]
  },
  {
   "cell_type": "code",
   "execution_count": null,
   "id": "37892ebd-067c-459d-95e1-7225193ea3c0",
   "metadata": {},
   "outputs": [],
   "source": [
    "trash_report['Trash Hauler'].value_counts()"
   ]
  },
  {
   "cell_type": "code",
   "execution_count": null,
   "id": "1e5be695-4b2f-4217-bded-808f2c950fba",
   "metadata": {},
   "outputs": [],
   "source": [
    "trash_report.loc[trash_report['Trash Hauler'] == 'Metro']"
   ]
  },
  {
   "cell_type": "code",
   "execution_count": null,
   "id": "e96efe30-570a-4476-82b8-99e4f846ac42",
   "metadata": {},
   "outputs": [],
   "source": [
    "trash_report.loc[trash_report['Trash Hauler'] == 'Red River']"
   ]
  },
  {
   "cell_type": "code",
   "execution_count": null,
   "id": "c08d212e-55a3-452a-80cf-e01886a0f2f2",
   "metadata": {},
   "outputs": [],
   "source": [
    "trash_report.loc[trash_report['Trash Hauler'] == 'Waste Ind']"
   ]
  },
  {
   "cell_type": "code",
   "execution_count": null,
   "id": "3848bcc8-7196-4449-a7f1-88e4b0b6e729",
   "metadata": {},
   "outputs": [],
   "source": [
    "trash_report['Zip Code'].value_counts()"
   ]
  },
  {
   "cell_type": "code",
   "execution_count": null,
   "id": "47df4005-3416-4802-91fd-17c337b96292",
   "metadata": {},
   "outputs": [],
   "source": [
    "trash_report['Zip Code'] = trash_report['Zip Code'].astype(str)\n",
    "trash_report['Zip Code'] = trash_report['Zip Code'].str[:5]"
   ]
  },
  {
   "cell_type": "code",
   "execution_count": null,
   "id": "dd4f060f-2388-4682-a862-b02cad986842",
   "metadata": {},
   "outputs": [],
   "source": [
    "trash_report.head()"
   ]
  },
  {
   "cell_type": "code",
   "execution_count": null,
   "id": "f19e491e-2980-4faa-8820-ffaa53bcf51a",
   "metadata": {},
   "outputs": [],
   "source": [
    "trash_report.loc[trash_report['Description'].str.contains('miss', case= False, na = True)]"
   ]
  },
  {
   "cell_type": "code",
   "execution_count": null,
   "id": "b20a3e0c-d606-4b6b-b04c-65a5450cfaae",
   "metadata": {},
   "outputs": [],
   "source": [
    "trash_report['miss'] = (trash_report['Description'].str.contains('miss', case=False) |\n",
    "                trash_report['Request'].str.contains('miss', case=False))\n",
    "trash_report"
   ]
  },
  {
   "cell_type": "code",
   "execution_count": null,
   "id": "d3936a38-4ef0-4d0b-8c87-68937cb5e9ea",
   "metadata": {},
   "outputs": [],
   "source": [
    "trash_missed = trash_report.loc[trash_report['Description'].str.contains('miss', case= False, na = True)]"
   ]
  },
  {
   "cell_type": "code",
   "execution_count": null,
   "id": "1657847a-6f30-49ea-8656-9ad3ad7b6bb9",
   "metadata": {},
   "outputs": [],
   "source": [
    "trash_report.loc[trash_report['Description'].str.contains('miss', case= False, na = True)]"
   ]
  },
  {
   "cell_type": "code",
   "execution_count": null,
   "id": "870cd977-73ed-422c-b2ea-aba8f9635497",
   "metadata": {},
   "outputs": [],
   "source": [
    "missed_by_route = trash_missed.groupby('Trash Route')['miss'].count()"
   ]
  },
  {
   "cell_type": "code",
   "execution_count": null,
   "id": "d10e0372-46f0-4fc2-9607-784a92def9df",
   "metadata": {},
   "outputs": [],
   "source": [
    "trash_missed.groupby('Trash Route')['Incident Address'].count()"
   ]
  },
  {
   "cell_type": "code",
   "execution_count": null,
   "id": "dcee0343-f721-4dcd-bab9-f178e733798f",
   "metadata": {},
   "outputs": [],
   "source": [
    "mtrash_missed.groupby('Incident Address')['miss'].count()"
   ]
  },
  {
   "cell_type": "code",
   "execution_count": null,
   "id": "510d26ed-8af3-49d3-9e92-93979ddfe52a",
   "metadata": {},
   "outputs": [],
   "source": []
  },
  {
   "cell_type": "code",
   "execution_count": null,
   "id": "d9f21c40-d63b-46ec-bfb5-da025e1e61cc",
   "metadata": {},
   "outputs": [],
   "source": [
    "multi_missed=multi_missed.loc[multi_missed['miss']>1]"
   ]
  },
  {
   "cell_type": "code",
   "execution_count": null,
   "id": "38966256-7654-49df-82c0-e467ae85ddfc",
   "metadata": {},
   "outputs": [],
   "source": [
    "multiple_misses=missed_trash.groupby('Correct Addresss')['miss'].count()\n",
    "multiple_misses"
   ]
  },
  {
   "cell_type": "code",
   "execution_count": null,
   "id": "11c23bb4-3b66-4aae-98e2-8dd66382f35b",
   "metadata": {},
   "outputs": [],
   "source": []
  }
 ],
 "metadata": {
  "kernelspec": {
   "display_name": "Python 3 (ipykernel)",
   "language": "python",
   "name": "python3"
  },
  "language_info": {
   "codemirror_mode": {
    "name": "ipython",
    "version": 3
   },
   "file_extension": ".py",
   "mimetype": "text/x-python",
   "name": "python",
   "nbconvert_exporter": "python",
   "pygments_lexer": "ipython3",
   "version": "3.12.4"
  }
 },
 "nbformat": 4,
 "nbformat_minor": 5
}
